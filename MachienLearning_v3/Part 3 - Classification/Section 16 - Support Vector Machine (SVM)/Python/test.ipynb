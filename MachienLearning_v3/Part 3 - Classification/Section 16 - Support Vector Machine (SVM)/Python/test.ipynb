{
 "cells": [
  {
   "cell_type": "code",
   "execution_count": 1,
   "metadata": {},
   "outputs": [],
   "source": [
    "import numpy as np\n",
    "import pandas as pd\n",
    "import matplotlib.pyplot as plt\n",
    "from sklearn.svm import SVC\n",
    "from sklearn.preprocessing import LabelEncoder\n",
    "\n",
    "# 加載數據\n",
    "# 假設你已經有了名為 'Glass' 的 DataFrame\n",
    "# 如果數據需要從某個文件加載，你可以使用 pd.read_csv() 或其他相應的函數來加載數據\n",
    "data = pd.read_csv('Social_Network_Ads.csv')\n",
    "\n",
    "# 編碼類別變量\n",
    "le = LabelEncoder()\n",
    "data['Purchased'] = le.fit_transform(data['Purchased'])\n",
    "\n",
    "# 分離特徵和標籤\n",
    "X = data.drop('Purchased', axis=1)\n",
    "y = data['Purchased']\n",
    "\n",
    "# 初始化儲存支持向量數量的列表\n",
    "num_SV = []\n",
    "\n",
    "# 計算不同C值對應的支持向量數量\n",
    "# C = [ 1, 10, 100, 1000 ]\n",
    "# for c in C:\n",
    "#     svm_model = SVC(C=c, kernel='linear')  # 設定SVM模型，這裡假設使用線性核\n",
    "#     svm_model.fit(X, y)\n",
    "#     num_SV.append(svm_model.n_support_.sum())  # 獲取支持向量的總數\n",
    "\n",
    "c = 1\n",
    "svm_model = SVC(C=c, kernel='linear')  # 設定SVM模型，這裡假設使用線性核\n",
    "svm_model.fit(X, y)\n",
    "num_SV.append(svm_model.n_support_.sum())  # 獲取支持向量的總數\n",
    "\n",
    "\n",
    "# 繪圖\n",
    "# plt.figure(figsize=(10, 6))\n",
    "# plt.plot([ 1, 10, 100, 1000 ], num_SV, marker='o', linestyle='-', markersize=5)\n",
    "# plt.xlabel('C value')\n",
    "# plt.ylabel('# of support vectors')\n",
    "# plt.title('# of SVs in soft-margin SVM')\n",
    "# plt.show()\n"
   ]
  }
 ],
 "metadata": {
  "kernelspec": {
   "display_name": "Python 3",
   "language": "python",
   "name": "python3"
  },
  "language_info": {
   "codemirror_mode": {
    "name": "ipython",
    "version": 3
   },
   "file_extension": ".py",
   "mimetype": "text/x-python",
   "name": "python",
   "nbconvert_exporter": "python",
   "pygments_lexer": "ipython3",
   "version": "3.11.8"
  }
 },
 "nbformat": 4,
 "nbformat_minor": 2
}
