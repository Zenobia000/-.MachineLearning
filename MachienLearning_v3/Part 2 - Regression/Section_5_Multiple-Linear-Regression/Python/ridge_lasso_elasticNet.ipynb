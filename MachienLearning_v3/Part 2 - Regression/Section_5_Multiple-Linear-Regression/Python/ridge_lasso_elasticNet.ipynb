{
 "cells": [
  {
   "cell_type": "markdown",
   "metadata": {},
   "source": [
    "# Lasso, Ridge, Elastic Net  \n",
    "lasso model: https://scikit-learn.org/stable/modules/generated/sklearn.linear_model.Lasso.html   \n",
    "ridge model: https://scikit-learn.org/0.16/modules/generated/sklearn.linear_model.Ridge.html  \n",
    "elastic net: https://scikit-learn.org/0.15/modules/generated/sklearn.linear_model.ElasticNet.html"
   ]
  },
  {
   "cell_type": "code",
   "execution_count": null,
   "metadata": {
    "vscode": {
     "languageId": "plaintext"
    }
   },
   "outputs": [],
   "source": []
  },
  {
   "cell_type": "code",
   "execution_count": null,
   "metadata": {
    "vscode": {
     "languageId": "plaintext"
    }
   },
   "outputs": [],
   "source": []
  }
 ],
 "metadata": {
  "language_info": {
   "name": "python"
  }
 },
 "nbformat": 4,
 "nbformat_minor": 2
}
