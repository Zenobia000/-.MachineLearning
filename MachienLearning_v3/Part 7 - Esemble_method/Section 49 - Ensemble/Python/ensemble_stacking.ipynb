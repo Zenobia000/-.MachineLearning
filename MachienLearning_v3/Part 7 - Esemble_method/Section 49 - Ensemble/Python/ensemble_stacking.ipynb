{
 "cells": [
  {
   "cell_type": "code",
   "execution_count": 2,
   "metadata": {},
   "outputs": [
    {
     "name": "stdout",
     "output_type": "stream",
     "text": [
      "Mean Squared Error: 0.50\n"
     ]
    }
   ],
   "source": [
    "import numpy as np\n",
    "from sklearn.datasets import fetch_california_housing\n",
    "from sklearn.linear_model import LinearRegression\n",
    "from sklearn.svm import SVR\n",
    "from sklearn.tree import DecisionTreeRegressor\n",
    "from sklearn.model_selection import train_test_split\n",
    "from sklearn.metrics import mean_squared_error\n",
    "\n",
    "# Fetch the dataset\n",
    "data = fetch_california_housing()\n",
    "X, y = data.data, data.target\n",
    "\n",
    "# Split data into training and testing sets\n",
    "X_train, X_test, y_train, y_test = train_test_split(X, y, test_size=0.2, random_state=42)\n",
    "\n",
    "# Initialize models\n",
    "models = {\n",
    "    'Linear Regression': LinearRegression(),\n",
    "    'SVR': SVR(),\n",
    "    'Decision Tree': DecisionTreeRegressor(random_state=42)\n",
    "}\n",
    "\n",
    "# Train models and collect predictions\n",
    "train_preds = []\n",
    "test_preds = []\n",
    "for name, model in models.items():\n",
    "    model.fit(X_train, y_train)\n",
    "    train_preds.append(model.predict(X_train))\n",
    "    test_preds.append(model.predict(X_test))\n",
    "\n",
    "# Stack predictions as new features\n",
    "train_meta_features = np.column_stack(train_preds)\n",
    "test_meta_features = np.column_stack(test_preds)\n",
    "\n",
    "# Train a meta model\n",
    "meta_model = LinearRegression()\n",
    "meta_model.fit(train_meta_features, y_train)\n",
    "\n",
    "# Make final predictions using the meta model\n",
    "final_predictions = meta_model.predict(test_meta_features)\n",
    "\n",
    "# Calculate the Mean Squared Error of the predictions\n",
    "mse = mean_squared_error(y_test, final_predictions)\n",
    "print(f\"Mean Squared Error: {mse:.2f}\")\n"
   ]
  }
 ],
 "metadata": {
  "kernelspec": {
   "display_name": "Python 3",
   "language": "python",
   "name": "python3"
  },
  "language_info": {
   "codemirror_mode": {
    "name": "ipython",
    "version": 3
   },
   "file_extension": ".py",
   "mimetype": "text/x-python",
   "name": "python",
   "nbconvert_exporter": "python",
   "pygments_lexer": "ipython3",
   "version": "3.11.8"
  }
 },
 "nbformat": 4,
 "nbformat_minor": 2
}
